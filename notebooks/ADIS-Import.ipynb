{
 "cells": [
  {
   "cell_type": "code",
   "execution_count": 11,
   "metadata": {},
   "outputs": [],
   "source": [
    "import pyiron, ase.io"
   ]
  },
  {
   "cell_type": "code",
   "execution_count": 6,
   "metadata": {},
   "outputs": [],
   "source": [
    "pr = pyiron.Project('ADIS_Imported')"
   ]
  },
  {
   "cell_type": "code",
   "execution_count": 7,
   "metadata": {},
   "outputs": [],
   "source": [
    "import os.path"
   ]
  },
  {
   "cell_type": "code",
   "execution_count": 23,
   "metadata": {},
   "outputs": [
    {
     "name": "stderr",
     "output_type": "stream",
     "text": [
      "2020-10-31 14:12:19,465 - pyiron_log - WARNING - The job Mg_900_5 is being loaded instead of running. To re-run use the argument 'delete_existing_job=True in create_job'\n",
      "2020-10-31 14:12:21,975 - pyiron_log - WARNING - The job Fe_1050_0 is being loaded instead of running. To re-run use the argument 'delete_existing_job=True in create_job'\n",
      "2020-10-31 14:12:23,462 - pyiron_log - WARNING - The job S5_s00_n130_r1024_400_0 is being loaded instead of running. To re-run use the argument 'delete_existing_job=True in create_job'\n",
      "2020-10-31 14:12:25,476 - pyiron_log - WARNING - The job Mg_500_5 is being loaded instead of running. To re-run use the argument 'delete_existing_job=True in create_job'\n",
      "2020-10-31 14:12:28,205 - pyiron_log - WARNING - The job Mg_1000_20 is being loaded instead of running. To re-run use the argument 'delete_existing_job=True in create_job'\n",
      "2020-10-31 14:12:30,753 - pyiron_log - WARNING - The job Cu_400_5 is being loaded instead of running. To re-run use the argument 'delete_existing_job=True in create_job'\n",
      "2020-10-31 14:12:33,302 - pyiron_log - WARNING - The job Cu_720_0 is being loaded instead of running. To re-run use the argument 'delete_existing_job=True in create_job'\n",
      "2020-10-31 14:12:36,011 - pyiron_log - WARNING - The job Fe_1350_20 is being loaded instead of running. To re-run use the argument 'delete_existing_job=True in create_job'\n",
      "2020-10-31 14:12:38,737 - pyiron_log - WARNING - The job Si_1400_0 is being loaded instead of running. To re-run use the argument 'delete_existing_job=True in create_job'\n",
      "2020-10-31 14:12:41,340 - pyiron_log - WARNING - The job Cu_400_0 is being loaded instead of running. To re-run use the argument 'delete_existing_job=True in create_job'\n",
      "2020-10-31 14:12:44,005 - pyiron_log - WARNING - The job Si_1000_20 is being loaded instead of running. To re-run use the argument 'delete_existing_job=True in create_job'\n",
      "2020-10-31 14:12:45,321 - pyiron_log - WARNING - The job S5_s00_n130_r1024_400_5 is being loaded instead of running. To re-run use the argument 'delete_existing_job=True in create_job'\n",
      "2020-10-31 14:12:47,458 - pyiron_log - WARNING - The job Mg_700_20 is being loaded instead of running. To re-run use the argument 'delete_existing_job=True in create_job'\n",
      "2020-10-31 14:12:50,181 - pyiron_log - WARNING - The job Mg_1000_5 is being loaded instead of running. To re-run use the argument 'delete_existing_job=True in create_job'\n",
      "2020-10-31 14:12:52,907 - pyiron_log - WARNING - The job Mg_500_0 is being loaded instead of running. To re-run use the argument 'delete_existing_job=True in create_job'\n",
      "2020-10-31 14:12:54,397 - pyiron_log - WARNING - The job S5_s00_n130_r1024_560_20 is being loaded instead of running. To re-run use the argument 'delete_existing_job=True in create_job'\n",
      "2020-10-31 14:12:56,187 - pyiron_log - WARNING - The job Fe_1350_0 is being loaded instead of running. To re-run use the argument 'delete_existing_job=True in create_job'\n",
      "2020-10-31 14:12:58,683 - pyiron_log - WARNING - The job Cu_400_20 is being loaded instead of running. To re-run use the argument 'delete_existing_job=True in create_job'\n",
      "2020-10-31 14:13:01,303 - pyiron_log - WARNING - The job Fe_1050_20 is being loaded instead of running. To re-run use the argument 'delete_existing_job=True in create_job'\n",
      "2020-10-31 14:13:03,849 - pyiron_log - WARNING - The job Fe_1350_5 is being loaded instead of running. To re-run use the argument 'delete_existing_job=True in create_job'\n",
      "2020-10-31 14:13:06,492 - pyiron_log - WARNING - The job Cu_720_5 is being loaded instead of running. To re-run use the argument 'delete_existing_job=True in create_job'\n",
      "2020-10-31 14:13:09,284 - pyiron_log - WARNING - The job Si_1400_20 is being loaded instead of running. To re-run use the argument 'delete_existing_job=True in create_job'\n",
      "2020-10-31 14:13:11,814 - pyiron_log - WARNING - The job Fe_1050_5 is being loaded instead of running. To re-run use the argument 'delete_existing_job=True in create_job'\n",
      "2020-10-31 14:13:14,606 - pyiron_log - WARNING - The job Si_1400_5 is being loaded instead of running. To re-run use the argument 'delete_existing_job=True in create_job'\n",
      "2020-10-31 14:13:17,142 - pyiron_log - WARNING - The job Cu_560_20 is being loaded instead of running. To re-run use the argument 'delete_existing_job=True in create_job'\n",
      "2020-10-31 14:13:19,813 - pyiron_log - WARNING - The job Fe_750_5 is being loaded instead of running. To re-run use the argument 'delete_existing_job=True in create_job'\n",
      "2020-10-31 14:13:22,501 - pyiron_log - WARNING - The job Mg_900_20 is being loaded instead of running. To re-run use the argument 'delete_existing_job=True in create_job'\n",
      "2020-10-31 14:13:25,327 - pyiron_log - WARNING - The job Mg_700_5 is being loaded instead of running. To re-run use the argument 'delete_existing_job=True in create_job'\n",
      "2020-10-31 14:13:28,065 - pyiron_log - WARNING - The job Mg_700_0 is being loaded instead of running. To re-run use the argument 'delete_existing_job=True in create_job'\n",
      "2020-10-31 14:13:30,743 - pyiron_log - WARNING - The job Si_1000_0 is being loaded instead of running. To re-run use the argument 'delete_existing_job=True in create_job'\n",
      "2020-10-31 14:13:33,312 - pyiron_log - WARNING - The job Cu_720_20 is being loaded instead of running. To re-run use the argument 'delete_existing_job=True in create_job'\n",
      "2020-10-31 14:13:35,954 - pyiron_log - WARNING - The job Si_1000_5 is being loaded instead of running. To re-run use the argument 'delete_existing_job=True in create_job'\n",
      "2020-10-31 14:13:37,275 - pyiron_log - WARNING - The job S5_s00_n130_r1024_720_0 is being loaded instead of running. To re-run use the argument 'delete_existing_job=True in create_job'\n",
      "2020-10-31 14:13:37,986 - pyiron_log - WARNING - The job S5_s00_n130_r1024_560_0 is being loaded instead of running. To re-run use the argument 'delete_existing_job=True in create_job'\n",
      "2020-10-31 14:13:40,010 - pyiron_log - WARNING - The job Mg_1000_0 is being loaded instead of running. To re-run use the argument 'delete_existing_job=True in create_job'\n",
      "2020-10-31 14:13:42,518 - pyiron_log - WARNING - The job Cu_560_0 is being loaded instead of running. To re-run use the argument 'delete_existing_job=True in create_job'\n",
      "2020-10-31 14:13:45,163 - pyiron_log - WARNING - The job Cu_560_5 is being loaded instead of running. To re-run use the argument 'delete_existing_job=True in create_job'\n",
      "2020-10-31 14:13:47,868 - pyiron_log - WARNING - The job Mg_900_0 is being loaded instead of running. To re-run use the argument 'delete_existing_job=True in create_job'\n",
      "2020-10-31 14:13:50,808 - pyiron_log - WARNING - The job Mg_500_20 is being loaded instead of running. To re-run use the argument 'delete_existing_job=True in create_job'\n",
      "2020-10-31 14:13:52,142 - pyiron_log - WARNING - The job S5_s00_n130_r1024_400_20 is being loaded instead of running. To re-run use the argument 'delete_existing_job=True in create_job'\n",
      "2020-10-31 14:13:52,751 - pyiron_log - WARNING - The job S5_s00_n130_r1024_560_5 is being loaded instead of running. To re-run use the argument 'delete_existing_job=True in create_job'\n",
      "2020-10-31 14:13:54,563 - pyiron_log - WARNING - The job Fe_750_20 is being loaded instead of running. To re-run use the argument 'delete_existing_job=True in create_job'\n",
      "2020-10-31 14:13:55,872 - pyiron_log - WARNING - The job S5_s00_n130_r1024_720_20 is being loaded instead of running. To re-run use the argument 'delete_existing_job=True in create_job'\n",
      "2020-10-31 14:13:57,806 - pyiron_log - WARNING - The job Fe_750_0 is being loaded instead of running. To re-run use the argument 'delete_existing_job=True in create_job'\n",
      "2020-10-31 14:13:59,137 - pyiron_log - WARNING - The job S5_s00_n130_r1024_720_5 is being loaded instead of running. To re-run use the argument 'delete_existing_job=True in create_job'\n"
     ]
    }
   ],
   "source": [
    "for p in os.listdir('dump'):\n",
    "    fs = list(filter(lambda d: not os.path.isfile(d), os.listdir(f'dump/{p}')))\n",
    "        \n",
    "    j = pr.create_job(pr.job_type.StructureContainer, os.path.basename(p))\n",
    "    for f in fs:\n",
    "        j.structure_lst.append(pyiron.ase_to_pyiron(\n",
    "            ase.io.lammpsdata.read_lammps_data(f'dump/{p}/{f}', style='atomic')\n",
    "        ))\n",
    "    j.run()"
   ]
  },
  {
   "cell_type": "code",
   "execution_count": 17,
   "metadata": {},
   "outputs": [
    {
     "name": "stdout",
     "output_type": "stream",
     "text": [
      "steps_1   steps_21  steps_41  steps_61\tsteps_81\n",
      "steps_11  steps_31  steps_51  steps_71\tsteps_91\n"
     ]
    }
   ],
   "source": [
    "!ls dump/Fe_750_0"
   ]
  },
  {
   "cell_type": "code",
   "execution_count": null,
   "metadata": {},
   "outputs": [],
   "source": []
  }
 ],
 "metadata": {
  "kernelspec": {
   "display_name": "Python 3",
   "language": "python",
   "name": "python3"
  },
  "language_info": {
   "codemirror_mode": {
    "name": "ipython",
    "version": 3
   },
   "file_extension": ".py",
   "mimetype": "text/x-python",
   "name": "python",
   "nbconvert_exporter": "python",
   "pygments_lexer": "ipython3",
   "version": "3.7.6"
  }
 },
 "nbformat": 4,
 "nbformat_minor": 4
}
